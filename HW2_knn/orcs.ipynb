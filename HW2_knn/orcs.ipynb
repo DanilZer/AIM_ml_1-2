{
  "cells": [
    {
      "cell_type": "code",
      "execution_count": null,
      "id": "4d0c96a9-344d-4619-ac26-6c34ccd09176",
      "metadata": {
        "id": "4d0c96a9-344d-4619-ac26-6c34ccd09176"
      },
      "outputs": [],
      "source": [
        "import pandas as pd\n",
        "import numpy as np\n",
        "from sklearn.feature_extraction.text import TfidfVectorizer\n",
        "from sklearn.decomposition import TruncatedSVD\n",
        "from sklearn.preprocessing import OneHotEncoder, StandardScaler\n",
        "from Levenshtein import distance as levenshtein_distance\n",
        "import faiss"
      ]
    },
    {
      "cell_type": "code",
      "execution_count": null,
      "id": "3223b7b0-082d-4c6c-bc63-9c7d1b34688f",
      "metadata": {
        "id": "3223b7b0-082d-4c6c-bc63-9c7d1b34688f"
      },
      "outputs": [],
      "source": [
        "def read_data():\n",
        "    employees = pd.read_parquet('employees.parquet')\n",
        "    orcs = pd.read_parquet('orcs.parquet')\n",
        "    return employees, orcs\n",
        "\n",
        "def preprocess_dates(df):\n",
        "    dates = pd.to_datetime(df['birthdate'], errors='coerce')\n",
        "    df['year'] = dates.dt.year\n",
        "    df['month'] = dates.dt.month\n",
        "    df['day'] = dates.dt.day\n",
        "\n",
        "    for col in ['year', 'month', 'day']:\n",
        "        median_val = df[col].median()\n",
        "        df[col] = df[col].fillna(median_val)\n",
        "\n",
        "    return df\n",
        "\n",
        "def build_string_vectorizer():\n",
        "    return TfidfVectorizer(analyzer='char_wb', ngram_range=(2,4))\n",
        "\n",
        "def vectorize_strings(df, fields, vectorizer=None):\n",
        "    df[fields] = df[fields].fillna('')\n",
        "    text = df[fields].apply(lambda x: ' '.join(x), axis=1)\n",
        "\n",
        "    if vectorizer is None:\n",
        "        vectorizer = build_string_vectorizer()\n",
        "        X = vectorizer.fit_transform(text)\n",
        "        return X, vectorizer\n",
        "    else:\n",
        "        X = vectorizer.transform(text)\n",
        "        return X\n",
        "\n",
        "def encode_dates(df, enc=None, scaler=None):\n",
        "    if enc is None:\n",
        "        enc = OneHotEncoder(handle_unknown='ignore', sparse_output=False)\n",
        "        month_ohe = enc.fit_transform(df[['month']])\n",
        "    else:\n",
        "        month_ohe = enc.transform(df[['month']])\n",
        "\n",
        "    numeric_feats = np.vstack([\n",
        "        df['day'].values,\n",
        "        df['year'].values\n",
        "    ]).T.astype(float)\n",
        "\n",
        "    if scaler is None:\n",
        "        scaler = StandardScaler()\n",
        "        numeric_feats = scaler.fit_transform(numeric_feats)\n",
        "    else:\n",
        "        numeric_feats = scaler.transform(numeric_feats)\n",
        "\n",
        "    return np.hstack([numeric_feats, month_ohe]), enc, scaler\n",
        "\n",
        "def build_ivf_index(embeddings, nlist=100):\n",
        "    # использовал IVF индекс так как он ускоряет поиск близких эмбеддингов, масштабируется под большие данные и удобен в настройке\n",
        "    dimension = embeddings.shape[1]\n",
        "    quantizer = faiss.IndexFlatL2(dimension)\n",
        "    index = faiss.IndexIVFFlat(quantizer, dimension, nlist)\n",
        "    index.train(embeddings)\n",
        "    index.add(embeddings)\n",
        "    return index\n",
        "\n",
        "def compute_metric(emp_row, orc_row):\n",
        "    #Использовал кастомную комбинированную метрику, так как у нас даны строковые и числовые данные одновременно\n",
        "    #Для числовых данных евклидовая метрика для строковых расстояние Левентшейна\n",
        "    str_fields = ['name', 'surname', 'fathername', 'inn', 'passport']\n",
        "    str_distance = 0\n",
        "    for f in str_fields:\n",
        "        str_distance += levenshtein_distance(str(emp_row[f]), str(orc_row[f]))\n",
        "\n",
        "    day_diff = emp_row['day'] - orc_row['day']\n",
        "    year_diff = emp_row['year'] - orc_row['year']\n",
        "    month_diff = 1 if emp_row['month'] != orc_row['month'] else 0\n",
        "    num_distance = np.sqrt(day_diff**2 + year_diff**2 + month_diff**2)\n",
        "\n",
        "    return str_distance + num_distance\n"
      ]
    },
    {
      "cell_type": "code",
      "execution_count": null,
      "id": "1874b039-023e-4ba4-b65c-77cf5fd25372",
      "metadata": {
        "id": "1874b039-023e-4ba4-b65c-77cf5fd25372"
      },
      "outputs": [],
      "source": [
        "employees, orcs = read_data()\n",
        "employees = preprocess_dates(employees)\n",
        "orcs = preprocess_dates(orcs)\n",
        "\n",
        "str_fields = ['name', 'surname', 'fathername', 'inn', 'passport']\n",
        "\n",
        "X_emp_str, str_vectorizer = vectorize_strings(employees, str_fields)\n",
        "X_orc_str = vectorize_strings(orcs, str_fields, vectorizer=str_vectorizer)\n",
        "\n",
        "svd = TruncatedSVD(n_components=100, random_state=42)\n",
        "X_emp_str_reduced = svd.fit_transform(X_emp_str)\n",
        "X_orc_str_reduced = svd.transform(X_orc_str)\n",
        "\n",
        "emp_num_feats, enc, scaler = encode_dates(employees)\n",
        "orc_num_feats, _, _ = encode_dates(orcs, enc=enc, scaler=scaler)\n",
        "\n",
        "X_emp = np.hstack([X_emp_str_reduced, emp_num_feats]).astype('float32')\n",
        "X_orc = np.hstack([X_orc_str_reduced, orc_num_feats]).astype('float32')\n"
      ]
    },
    {
      "cell_type": "code",
      "execution_count": null,
      "id": "3b2e36e3-af12-45cd-9064-68332e498f29",
      "metadata": {
        "id": "3b2e36e3-af12-45cd-9064-68332e498f29"
      },
      "outputs": [],
      "source": [
        "mask_m = (employees['gender'] == 'м')\n",
        "X_m = X_emp[mask_m]\n",
        "emp_indices_m = employees.index[mask_m].to_numpy()\n",
        "index_m = build_ivf_index(X_m)\n",
        "\n",
        "mask_f = (employees['gender'] == 'ж')\n",
        "X_f = X_emp[mask_f]\n",
        "emp_indices_f = employees.index[mask_f].to_numpy()\n",
        "index_f = build_ivf_index(X_f)\n",
        "\n",
        "indexes_by_gender = {\n",
        "    'м': index_m,\n",
        "    'ж': index_f\n",
        "}\n",
        "\n",
        "emp_indices_by_gender = {\n",
        "    'м': emp_indices_m,\n",
        "    'ж': emp_indices_f\n",
        "}\n"
      ]
    },
    {
      "cell_type": "code",
      "execution_count": null,
      "id": "6f0fdd07-ea74-427b-aa1e-eb8ec746b752",
      "metadata": {
        "id": "6f0fdd07-ea74-427b-aa1e-eb8ec746b752"
      },
      "outputs": [],
      "source": [
        "k = 2\n",
        "threshold = 14  # лучшие значения подобранные методом проб и ошибок\n",
        "\n",
        "orc_candidates = []\n",
        "\n",
        "for i, orc_row in orcs.iterrows():\n",
        "    g = orc_row['gender']\n",
        "    if g not in indexes_by_gender:\n",
        "        continue\n",
        "\n",
        "    index_g = indexes_by_gender[g]\n",
        "    emp_indices = emp_indices_by_gender[g]\n",
        "\n",
        "    x_orc_vec = X_orc[i:i+1]\n",
        "\n",
        "    D, I = index_g.search(x_orc_vec, k)\n",
        "    neighbor_idx = I[0]\n",
        "    candidate_ids = emp_indices[neighbor_idx]\n",
        "\n",
        "    for emp_id in candidate_ids:\n",
        "        emp_row = employees.loc[emp_id]\n",
        "        m = compute_metric(emp_row, orc_row)\n",
        "        if m < threshold:\n",
        "            orc_candidates.append(emp_id)\n",
        "\n",
        "orc_candidates = np.unique(orc_candidates).astype(np.uint64)\n",
        "\n",
        "res = pd.DataFrame({\n",
        "    'orig_index': orc_candidates\n",
        "}).reset_index(names='id')\n",
        "\n",
        "res.to_parquet('submission.parquet', index=False)\n"
      ]
    },
    {
      "cell_type": "code",
      "execution_count": null,
      "id": "1310eb9f-f74d-4625-99c7-13e25d633e57",
      "metadata": {
        "id": "1310eb9f-f74d-4625-99c7-13e25d633e57",
        "outputId": "85c872e6-ddff-4076-89c6-7c6e3fc2f673"
      },
      "outputs": [
        {
          "name": "stdout",
          "output_type": "stream",
          "text": [
            "Потенциальные орки среди сотрудников: [      3     160     400 ... 1011543 1011585 1011658]\n",
            "Количество людей, признанных орками: 10530\n"
          ]
        }
      ],
      "source": [
        "print(\"Потенциальные орки среди сотрудников:\", orc_candidates)\n",
        "print(\"Количество людей, признанных орками:\", len(orc_candidates))\n"
      ]
    },
    {
      "cell_type": "markdown",
      "source": [
        " Анализ работы: итоговый скор 0.751 приведен чистовой вариант работы без лишних аутпутов\n",
        " предобработка дат заменяем наны на среднее по столбцу после чего день и год кодируются числами, а к месяцу применяем метод OneHotEncoder\n",
        " для строк заменяем наны на пустые строчки (возможно стоило заменять на что-то другое, но в ходе работы было выявлено, что это ухудшает модель)\n",
        " далее строки кодировались в векторы с помощью TF-IDF(пришлось использовать чтобы работать с faiss (в чате писали про этот метод)), после чего размер веткторов уменьшался с помощью SVD\n",
        " По скольку пол единственное место где нет опечаток, то было принято решение строить индексы для двух полов отдельно, это улучшило модель"
      ],
      "metadata": {
        "id": "O5DulMROkbsr"
      },
      "id": "O5DulMROkbsr"
    },
    {
      "cell_type": "code",
      "execution_count": null,
      "id": "cc0fbefb-fece-4278-8ff5-b1f86d607094",
      "metadata": {
        "id": "cc0fbefb-fece-4278-8ff5-b1f86d607094"
      },
      "outputs": [],
      "source": []
    }
  ],
  "metadata": {
    "kernelspec": {
      "display_name": "Python 3 (ipykernel)",
      "language": "python",
      "name": "python3"
    },
    "language_info": {
      "codemirror_mode": {
        "name": "ipython",
        "version": 3
      },
      "file_extension": ".py",
      "mimetype": "text/x-python",
      "name": "python",
      "nbconvert_exporter": "python",
      "pygments_lexer": "ipython3",
      "version": "3.12.8"
    },
    "colab": {
      "provenance": []
    }
  },
  "nbformat": 4,
  "nbformat_minor": 5
}