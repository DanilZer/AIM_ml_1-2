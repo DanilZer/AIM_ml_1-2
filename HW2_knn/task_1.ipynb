{
  "cells": [
    {
      "cell_type": "markdown",
      "id": "9ec2ec22-e4bb-40f1-ae6c-a73feee291f9",
      "metadata": {
        "id": "9ec2ec22-e4bb-40f1-ae6c-a73feee291f9"
      },
      "source": [
        "## tool: KNNFeatureAggregator (5 баллов)\n",
        "\n",
        "Нужно написать класс, который будет справляться с задачей генерации новых фичей по ближайшим соседям.\n",
        "Принцип его работы объясним на примере. Допустим, мы находимся в каком-то пайплайне генерации признаков. Разберем псевдокод ниже:\n",
        "```python\n",
        "# 1\n",
        "'''\n",
        "    Создаем объект нашего класса - он принимает на вход информацию о том, какой будет индекс для поиска ближ. соседей.\n",
        "    Далее, \"обучаем\" индекс, если это нужно делать (строим граф, строим ivf-табличку) и т.п.).\n",
        "    После этого блока, у нас есть обученный индекс, готовый искать ближайших соседей по train_data.\n",
        "'''\n",
        "knn_feature_aggregator = KNNFeatureAggregator(index_info)\n",
        "knn_feature_aggregator.train(train_data, index_add_info)\n",
        "\n",
        "# 2\n",
        "'''\n",
        "    Считаем индексы ближайших соседей. На данном этапе мы хотим получить признаки для обучающей выборки, поэтому\n",
        "        подаем в качестве query_data нашу обучалку.\n",
        "    Указывам is_train=True, чтобы вернуть k ближайших соседей без учета самих себя (считая k+1 соседей + выкидывая 1 столбик).\n",
        "    k указываем __МАКСИМАЛЬНОЕ_ИЗ_ТРЕБУЮЩИХСЯ_НИЖЕ__ (пока не анализируем что это значит, просто имеем в виду).\n",
        "\n",
        "    Возвращает np.array размера (query_data.shape[0], k) с айдишниками ближ. соседей\n",
        "'''\n",
        "train_neighbors = knn_feature_aggregator.kneighbors(\n",
        "        query_data=train_data,\n",
        "        k=100,\n",
        "        is_train=True,\n",
        "        index_add_info=index_add_info\n",
        ")\n",
        "\n",
        "# 4 (сначала см. пункт 3 ниже)\n",
        "'''\n",
        "    Информацию о признаках можно подавать, например, в виде такого словаря.\n",
        "    Ключи - названия результирующих колонок с новыми признаками.\n",
        "    Значения - таплы из:\n",
        "        1. Название оригинальной колонки, по которой агрегируемся\n",
        "        2. Аггрегирующая фукнция\n",
        "        3. Список из количества ближайших соседей, по которым считаем агг. функцию.\n",
        "            Здесь каждое число должно быть НЕ БОЛЬШЕ k из пункта 2 (вспоминаем \"__МАКСИМАЛЬНОЕ_ИЗ_ТРЕБУЮЩИХСЯ_НИЖЕ__\", понимаем :)\n",
        "\n",
        "    Пример:\n",
        "        Имеем из п. 2 айдишники соседей:\n",
        "        train_neighbors = array([[1, 2, 3],\n",
        "                                 [2, 0, 3],\n",
        "                                 [3, 1, 4],\n",
        "                                 [4, 2, 1],\n",
        "                                 [3, 2, 1]], dtype=uint64)\n",
        "\n",
        "        Тогда по записи {\n",
        "            ...\n",
        "            'new_neighbors_age_mean': ('age', 'mean', [2, 3]),\n",
        "        }\n",
        "\n",
        "        Создадутся две новых колонки - 'new_neighbors_age_mean_2nn', 'new_neighbors_age_mean_3nn'.\n",
        "        В первой будет для каждого объекта лежать средний возраст его двух ближ. соседей,\n",
        "            во второй - средний возраст трех ближ. соседей.\n",
        "\n",
        "'''\n",
        "feature_info =\n",
        "{\n",
        "                    #  название_колонки     агг.функция               список кол-ва соседей, по которым считать агг. функцию\n",
        "    'new_col_name_1': ('original_col_name_1',     'sum',                                [10, 20, 100]),\n",
        "    'new_col_name_2': ('original_col_name_2',     lambda x: x.min() % 3,                [50, 80, 100])\n",
        "}\n",
        "\n",
        "# 3\n",
        "'''\n",
        "    Суть этого класса - генерировать новые фичи на основе ближайших соседей. Здесь мы это и делаем.\n",
        "    Для этого подаем на вход айдишники соседей из обучающей выборки и саму обучающую выборку.\n",
        "    Далее, подаем на вход информацию о том, \"какие\" признаки нам нужны, см. выше.\n",
        "\n",
        "    Возвращает датафрейм размера (neighbor_ids.shape[0], количество_новых_фичей_по_feature_info)\n",
        "'''\n",
        "train_new_feature_df = knn_feature_aggregator.make_features(\n",
        "    neighbor_ids=train_neighbors,\n",
        "    train_data=train_data,\n",
        "    feature_info=feature_info\n",
        ")\n",
        "train_data_with_new_features = merge(train_data, train_new_feature_df)\n",
        "\n",
        "# 5\n",
        "'''\n",
        "    Для тестовой выборки пайплайн будет выглядеть аналогично, за исключением того, что is_train теперь False\n",
        "'''\n",
        "test_neighbors = knn_feature_aggregator.kneighbors(\n",
        "        query_data=test_data,\n",
        "        k=100,\n",
        "        is_train=False,\n",
        "        index_add_info=index_add_info\n",
        ")\n",
        "test_new_feature_df = knn_feature_aggregator.make_features(\n",
        "    neighbor_ids=test_neighbors,\n",
        "    train_data=train_data,\n",
        "    feature_info=feature_info\n",
        ")\n",
        "test_data_with_new_features = merge(test_data, test_new_feature_df)\n",
        "\n",
        "```"
      ]
    },
    {
      "cell_type": "code",
      "execution_count": null,
      "id": "d99e16c9-17f0-4e0a-96ad-38d39ac59797",
      "metadata": {
        "id": "d99e16c9-17f0-4e0a-96ad-38d39ac59797"
      },
      "outputs": [],
      "source": []
    },
    {
      "cell_type": "markdown",
      "id": "e56926dd-e7db-4f7b-b18e-510e5cbc777b",
      "metadata": {
        "id": "e56926dd-e7db-4f7b-b18e-510e5cbc777b"
      },
      "source": [
        "### Задание:\n",
        "Написать класс, который реализует все, что описано выше, в частности:\n",
        "\n",
        "**\\_\\_init\\_\\_**\n",
        "- вы сами решаете, какой будет индекс, будет ли он фиксирован и т.п.\n",
        "\n",
        "**train**\n",
        "- обучающую выборку не нужно сохранять в объект класса в целях экономии памяти\n",
        "- если вам нужно разбить `train` на `train` и `add_items`,\n",
        "      чтобы поддерживать обучение индекса на репрезентативном сабсэмпле, можете это сделать\n",
        "- аргумент train_data - не обязательно выборка со всеми признаками.\n",
        "      Вы хотите подавать сюда то подмножество признаков, по которому будете искать соседей\n",
        "      (соответственно, нужно подавать уже приведенные к однородному виду данные)\n",
        "\n",
        "**kneighbors**\n",
        "- обязательна поддержка флажка is_train с описанным выше функционалом\n",
        "- аргумент query_data - см. замечание к аргументу train_data из метода train выше\n",
        "\n",
        "**make_features**\n",
        "- обработайте отдельно случай, когда вы в качестве ближайших соседей подаете единственное число.\n",
        "      Не нужно извне подавать список из одного числа, обработка должна быть внутри\n",
        "\n",
        "**Эффективность**\n",
        "\n",
        "Все должно быть реализовано эффективно. В том числе:\n",
        "- без цикла for по всем объектам train_data/query_data\n",
        "- без pd.DataFrame.apply\n",
        "- можно использовать np.apply_along_axis (работает в ~5 раз быстрее, чем pandas)\n",
        "\n",
        "**Пример**\n",
        "\n",
        "Нужно привести пример работы вашего класса, запустив ячейки в блоке \"Пример\" ниже.\n",
        "Не удаляйте авторский пример!\n",
        "\n",
        "**Вопросы**\n",
        "\n",
        "Нужно ответить на вопросы в блоке \"Вопросы\" ниже"
      ]
    },
    {
      "cell_type": "code",
      "execution_count": null,
      "id": "12d421eb-fc92-4c87-9040-932e38401236",
      "metadata": {
        "id": "12d421eb-fc92-4c87-9040-932e38401236"
      },
      "outputs": [],
      "source": []
    },
    {
      "cell_type": "markdown",
      "id": "397ba684-9024-410b-9bf8-f061a0e27fd3",
      "metadata": {
        "id": "397ba684-9024-410b-9bf8-f061a0e27fd3"
      },
      "source": [
        "**Note:** feature_info можете реализовать в любом виде, но описанный выше способ хорош тем,\n",
        "      что его легко привести в удобный для дальнейшей работы вид:"
      ]
    },
    {
      "cell_type": "code",
      "execution_count": null,
      "id": "38071a59-2bd2-4110-81b8-85d804a9c5f8",
      "metadata": {
        "id": "38071a59-2bd2-4110-81b8-85d804a9c5f8",
        "outputId": "bb4a3550-cb24-4695-861d-18a745bc1e9f"
      },
      "outputs": [
        {
          "data": {
            "text/html": [
              "<div>\n",
              "<style scoped>\n",
              "    .dataframe tbody tr th:only-of-type {\n",
              "        vertical-align: middle;\n",
              "    }\n",
              "\n",
              "    .dataframe tbody tr th {\n",
              "        vertical-align: top;\n",
              "    }\n",
              "\n",
              "    .dataframe thead th {\n",
              "        text-align: right;\n",
              "    }\n",
              "</style>\n",
              "<table border=\"1\" class=\"dataframe\">\n",
              "  <thead>\n",
              "    <tr style=\"text-align: right;\">\n",
              "      <th></th>\n",
              "      <th>new_col</th>\n",
              "      <th>col_name</th>\n",
              "      <th>func</th>\n",
              "      <th>k</th>\n",
              "    </tr>\n",
              "  </thead>\n",
              "  <tbody>\n",
              "    <tr>\n",
              "      <th>0</th>\n",
              "      <td>new_col_name_1</td>\n",
              "      <td>original_col_name_1</td>\n",
              "      <td>&lt;function &lt;lambda&gt; at 0x00000209414A3A60&gt;</td>\n",
              "      <td>10</td>\n",
              "    </tr>\n",
              "    <tr>\n",
              "      <th>1</th>\n",
              "      <td>new_col_name_1</td>\n",
              "      <td>original_col_name_1</td>\n",
              "      <td>&lt;function &lt;lambda&gt; at 0x00000209414A3A60&gt;</td>\n",
              "      <td>20</td>\n",
              "    </tr>\n",
              "    <tr>\n",
              "      <th>2</th>\n",
              "      <td>new_col_name_1</td>\n",
              "      <td>original_col_name_1</td>\n",
              "      <td>&lt;function &lt;lambda&gt; at 0x00000209414A3A60&gt;</td>\n",
              "      <td>100</td>\n",
              "    </tr>\n",
              "    <tr>\n",
              "      <th>3</th>\n",
              "      <td>new_col_name_2</td>\n",
              "      <td>original_col_name_1</td>\n",
              "      <td>&lt;function &lt;lambda&gt; at 0x00000209414A3420&gt;</td>\n",
              "      <td>11</td>\n",
              "    </tr>\n",
              "    <tr>\n",
              "      <th>4</th>\n",
              "      <td>new_col_name_2</td>\n",
              "      <td>original_col_name_1</td>\n",
              "      <td>&lt;function &lt;lambda&gt; at 0x00000209414A3420&gt;</td>\n",
              "      <td>21</td>\n",
              "    </tr>\n",
              "    <tr>\n",
              "      <th>5</th>\n",
              "      <td>new_col_name_2</td>\n",
              "      <td>original_col_name_1</td>\n",
              "      <td>&lt;function &lt;lambda&gt; at 0x00000209414A3420&gt;</td>\n",
              "      <td>101</td>\n",
              "    </tr>\n",
              "    <tr>\n",
              "      <th>6</th>\n",
              "      <td>new_col_name_3</td>\n",
              "      <td>original_col_name_2</td>\n",
              "      <td>&lt;function &lt;lambda&gt; at 0x00000209429A0360&gt;</td>\n",
              "      <td>50</td>\n",
              "    </tr>\n",
              "    <tr>\n",
              "      <th>7</th>\n",
              "      <td>new_col_name_3</td>\n",
              "      <td>original_col_name_2</td>\n",
              "      <td>&lt;function &lt;lambda&gt; at 0x00000209429A0360&gt;</td>\n",
              "      <td>80</td>\n",
              "    </tr>\n",
              "    <tr>\n",
              "      <th>8</th>\n",
              "      <td>new_col_name_3</td>\n",
              "      <td>original_col_name_2</td>\n",
              "      <td>&lt;function &lt;lambda&gt; at 0x00000209429A0360&gt;</td>\n",
              "      <td>100</td>\n",
              "    </tr>\n",
              "  </tbody>\n",
              "</table>\n",
              "</div>"
            ],
            "text/plain": [
              "          new_col             col_name  \\\n",
              "0  new_col_name_1  original_col_name_1   \n",
              "1  new_col_name_1  original_col_name_1   \n",
              "2  new_col_name_1  original_col_name_1   \n",
              "3  new_col_name_2  original_col_name_1   \n",
              "4  new_col_name_2  original_col_name_1   \n",
              "5  new_col_name_2  original_col_name_1   \n",
              "6  new_col_name_3  original_col_name_2   \n",
              "7  new_col_name_3  original_col_name_2   \n",
              "8  new_col_name_3  original_col_name_2   \n",
              "\n",
              "                                        func    k  \n",
              "0  <function <lambda> at 0x00000209414A3A60>   10  \n",
              "1  <function <lambda> at 0x00000209414A3A60>   20  \n",
              "2  <function <lambda> at 0x00000209414A3A60>  100  \n",
              "3  <function <lambda> at 0x00000209414A3420>   11  \n",
              "4  <function <lambda> at 0x00000209414A3420>   21  \n",
              "5  <function <lambda> at 0x00000209414A3420>  101  \n",
              "6  <function <lambda> at 0x00000209429A0360>   50  \n",
              "7  <function <lambda> at 0x00000209429A0360>   80  \n",
              "8  <function <lambda> at 0x00000209429A0360>  100  "
            ]
          },
          "execution_count": 1,
          "metadata": {},
          "output_type": "execute_result"
        }
      ],
      "source": [
        "import pandas as pd\n",
        "\n",
        "feature_info = {\n",
        "                    #  название_колонки     агг.функция               список кол-ва соседей, по которым считать агг. функцию\n",
        "    'new_col_name_1': ('original_col_name_1',     lambda x: x.sum(),                                [10, 20, 100]),\n",
        "    'new_col_name_2': ('original_col_name_1',     lambda x: x.mean(),                                [11, 21, 101]),\n",
        "    'new_col_name_3': ('original_col_name_2',     lambda x: x.min() % 3,                [50, 80, 100])\n",
        "}\n",
        "pd.DataFrame(feature_info, index=['col_name', 'func', 'k']).T.explode('k').reset_index(names='new_col')"
      ]
    },
    {
      "cell_type": "code",
      "execution_count": null,
      "id": "302302a1-2070-4196-b694-6b0644b95763",
      "metadata": {
        "id": "302302a1-2070-4196-b694-6b0644b95763"
      },
      "outputs": [],
      "source": [
        "import numpy as np\n",
        "from sklearn.neighbors import NearestNeighbors"
      ]
    },
    {
      "cell_type": "code",
      "execution_count": null,
      "id": "c5bf152c-ec88-4f3f-a81f-420188888c13",
      "metadata": {
        "id": "c5bf152c-ec88-4f3f-a81f-420188888c13"
      },
      "outputs": [],
      "source": [
        "class KNNFeatureAggregator:\n",
        "    def __init__(self, n_neighbors_index=100, metric='euclidean'):\n",
        "        '''\n",
        "        - n_neighbors_index: максимальное количество соседей для поиска (не обязательно строго)\n",
        "        - metric: метрика расстояния для поиска ближайших соседей\n",
        "        '''\n",
        "        self.n_neighbors_index = n_neighbors_index\n",
        "        self.metric = metric\n",
        "        self.nn_model = None\n",
        "        self.train_data_columns = None\n",
        "\n",
        "    def train(self, train_data, index_add_info=None):\n",
        "        '''\n",
        "        train_data: pd.DataFrame или np.ndarra обучающая выборка\n",
        "        index_add_info: дополнительная информация для индекса, здесь можно не использовать.\n",
        "        После этого вызова: self.nn_model будет содержать обученный индекс для поиска соседей.\n",
        "        '''\n",
        "        if isinstance(train_data, pd.DataFrame):\n",
        "            self.train_data_columns = train_data.columns\n",
        "            train_data_values = train_data.values\n",
        "        else:\n",
        "            train_data_values = train_data\n",
        "        self.nn_model = NearestNeighbors(metric=self.metric)\n",
        "        self.nn_model.fit(train_data_values)\n",
        "\n",
        "    def kneighbors(self, query_data, k, is_train):\n",
        "        '''\n",
        "        Находит k ближайших соседей для query_data.\n",
        "        query_data: pd.DataFrame или np.ndarray\n",
        "        k: int - число соседей, которых нужно вернуть\n",
        "        is_train: bool - если True, нужно исключить самих себя из соседей.\n",
        "        Возвращает:\n",
        "        neighbor_ids: np.array размера (query_data.shape[0], k).\n",
        "        '''\n",
        "        if isinstance(query_data, pd.DataFrame):\n",
        "            if self.train_data_columns is not None:\n",
        "                query_data = query_data[self.train_data_columns]\n",
        "            query_values = query_data.values\n",
        "        else:\n",
        "            query_values = query_data\n",
        "\n",
        "        actual_k = k + 1 if is_train else k\n",
        "\n",
        "        distances, indices = self.nn_model.kneighbors(query_values, n_neighbors=actual_k)\n",
        "\n",
        "        if is_train:\n",
        "            indices = indices[:, 1:]\n",
        "        return indices\n",
        "\n",
        "    def make_features(self, neighbor_ids, train_data, feature_info):\n",
        "        '''\n",
        "        neighbor_ids: np.array (n_samples, k) с индексами соседей\n",
        "        train_data: данные, по которым считать агрегаты.\n",
        "          Должен содержать необходимые оригинальные колонки.\n",
        "        feature_info: dict\n",
        "            {\n",
        "              'new_feature_name': (original_col_name, agg_function, list_of_ks)\n",
        "            }\n",
        "        Возвращает:\n",
        "        pd.DataFrame с новыми фичами.\n",
        "        '''\n",
        "        train_values = train_data.values\n",
        "        train_columns = train_data.columns\n",
        "        col_to_idx = {c: i for i, c in enumerate(train_columns)}\n",
        "\n",
        "        n_samples, k = neighbor_ids.shape\n",
        "        result_cols = {}\n",
        "\n",
        "        for new_col_name, (original_col_name, agg_func, list_of_ks) in feature_info.items():\n",
        "\n",
        "            if not isinstance(list_of_ks, list):\n",
        "                list_of_ks = [list_of_ks]\n",
        "\n",
        "            col_idx = col_to_idx[original_col_name]\n",
        "            col_values = train_values[:, col_idx]\n",
        "\n",
        "            neighbor_values = col_values[neighbor_ids]\n",
        "\n",
        "            for m in list_of_ks:\n",
        "                subset = neighbor_values[:, :m]\n",
        "                agg_result = np.apply_along_axis(agg_func, 1, subset)\n",
        "                new_feature_col_name = f\"{new_col_name}_{m}nn\"\n",
        "                result_cols[new_feature_col_name] = agg_result\n",
        "\n",
        "        result_df = pd.DataFrame(result_cols)\n",
        "        return result_df"
      ]
    },
    {
      "cell_type": "code",
      "execution_count": null,
      "id": "01baa1f1-b1cd-4a12-bd6b-fca52f1463e2",
      "metadata": {
        "id": "01baa1f1-b1cd-4a12-bd6b-fca52f1463e2"
      },
      "outputs": [],
      "source": []
    },
    {
      "cell_type": "markdown",
      "id": "4307da4f-c4b8-4466-bb8e-dafe06a9566e",
      "metadata": {
        "id": "4307da4f-c4b8-4466-bb8e-dafe06a9566e"
      },
      "source": [
        "### Пример"
      ]
    },
    {
      "cell_type": "markdown",
      "id": "afcac436-e843-4501-8672-01e28cbb158b",
      "metadata": {
        "id": "afcac436-e843-4501-8672-01e28cbb158b"
      },
      "source": [
        "Ваш:"
      ]
    },
    {
      "cell_type": "code",
      "execution_count": null,
      "id": "2d9330cf-b95d-4f6a-ba0c-1e76de9c7a72",
      "metadata": {
        "id": "2d9330cf-b95d-4f6a-ba0c-1e76de9c7a72",
        "outputId": "8c28184a-ff25-425c-f204-cfa2e1cd3d11"
      },
      "outputs": [
        {
          "data": {
            "text/plain": [
              "array([[1, 2, 3],\n",
              "       [2, 0, 3],\n",
              "       [3, 1, 4],\n",
              "       [4, 2, 1],\n",
              "       [3, 2, 1]], dtype=int64)"
            ]
          },
          "execution_count": 46,
          "metadata": {},
          "output_type": "execute_result"
        }
      ],
      "source": [
        "train_data = pd.DataFrame({\n",
        "    'a': [1, 2, 3, 4, 5],\n",
        "    'b': [10, 19, 27, 34, 40]\n",
        "})\n",
        "agg = KNNFeatureAggregator()\n",
        "agg.train(train_data)\n",
        "neighbor_ids = agg.kneighbors(train_data, k=3, is_train=True)\n",
        "neighbor_ids # у вас индексы ближ. соседей могут отличаться"
      ]
    },
    {
      "cell_type": "code",
      "execution_count": null,
      "id": "5e166539-0188-41e3-a16b-2b00fcd6845c",
      "metadata": {
        "id": "5e166539-0188-41e3-a16b-2b00fcd6845c",
        "outputId": "3b5cdef1-fd8a-442b-9414-0342b321693c"
      },
      "outputs": [
        {
          "data": {
            "text/html": [
              "<div>\n",
              "<style scoped>\n",
              "    .dataframe tbody tr th:only-of-type {\n",
              "        vertical-align: middle;\n",
              "    }\n",
              "\n",
              "    .dataframe tbody tr th {\n",
              "        vertical-align: top;\n",
              "    }\n",
              "\n",
              "    .dataframe thead th {\n",
              "        text-align: right;\n",
              "    }\n",
              "</style>\n",
              "<table border=\"1\" class=\"dataframe\">\n",
              "  <thead>\n",
              "    <tr style=\"text-align: right;\">\n",
              "      <th></th>\n",
              "      <th>a_sum_2nn</th>\n",
              "      <th>a_sum_3nn</th>\n",
              "      <th>b_whatever_2nn</th>\n",
              "    </tr>\n",
              "  </thead>\n",
              "  <tbody>\n",
              "    <tr>\n",
              "      <th>0</th>\n",
              "      <td>5</td>\n",
              "      <td>9</td>\n",
              "      <td>19</td>\n",
              "    </tr>\n",
              "    <tr>\n",
              "      <th>1</th>\n",
              "      <td>4</td>\n",
              "      <td>8</td>\n",
              "      <td>10</td>\n",
              "    </tr>\n",
              "    <tr>\n",
              "      <th>2</th>\n",
              "      <td>6</td>\n",
              "      <td>11</td>\n",
              "      <td>19</td>\n",
              "    </tr>\n",
              "    <tr>\n",
              "      <th>3</th>\n",
              "      <td>8</td>\n",
              "      <td>10</td>\n",
              "      <td>27</td>\n",
              "    </tr>\n",
              "    <tr>\n",
              "      <th>4</th>\n",
              "      <td>7</td>\n",
              "      <td>9</td>\n",
              "      <td>27</td>\n",
              "    </tr>\n",
              "  </tbody>\n",
              "</table>\n",
              "</div>"
            ],
            "text/plain": [
              "   a_sum_2nn  a_sum_3nn  b_whatever_2nn\n",
              "0          5          9              19\n",
              "1          4          8              10\n",
              "2          6         11              19\n",
              "3          8         10              27\n",
              "4          7          9              27"
            ]
          },
          "execution_count": 47,
          "metadata": {},
          "output_type": "execute_result"
        }
      ],
      "source": [
        "X = agg.make_features(neighbor_ids, train_data, feature_info={\n",
        "    'a_sum': ('a', lambda x: x.sum(), [2, 3]),\n",
        "    'b_whatever': ('b', lambda x: x.min(), 2),\n",
        "})\n",
        "X"
      ]
    },
    {
      "cell_type": "code",
      "execution_count": null,
      "id": "22cd878b-68dc-4a24-97aa-6561f79dbb9d",
      "metadata": {
        "id": "22cd878b-68dc-4a24-97aa-6561f79dbb9d"
      },
      "outputs": [],
      "source": []
    },
    {
      "cell_type": "markdown",
      "id": "e438e989-639a-4dda-b94a-32910d6704fb",
      "metadata": {
        "id": "e438e989-639a-4dda-b94a-32910d6704fb"
      },
      "source": [
        "Авторский:"
      ]
    },
    {
      "cell_type": "code",
      "execution_count": null,
      "id": "43a7f44c-f117-4896-82e3-a1c1a558cece",
      "metadata": {
        "id": "43a7f44c-f117-4896-82e3-a1c1a558cece",
        "outputId": "5192cdf8-8859-4f78-bbb4-911673975e05"
      },
      "outputs": [
        {
          "data": {
            "text/plain": [
              "array([[1, 2, 3],\n",
              "       [2, 0, 3],\n",
              "       [3, 1, 4],\n",
              "       [4, 2, 1],\n",
              "       [3, 2, 1]], dtype=uint64)"
            ]
          },
          "execution_count": 20,
          "metadata": {},
          "output_type": "execute_result"
        }
      ],
      "source": [
        "train_data = pd.DataFrame({\n",
        "    'a': [1, 2, 3, 4, 5],\n",
        "    'b': [10, 19, 27, 34, 40]\n",
        "})\n",
        "agg = KNNFeatureAgg(dim=2, metric='l2') # у автора: hnsw index\n",
        "agg.train(train_data)\n",
        "neighbor_ids = agg.kneighbors(train_data, is_train=True, k=3)\n",
        "neighbor_ids # у вас индексы ближ. соседей могут отличаться"
      ]
    },
    {
      "cell_type": "code",
      "execution_count": null,
      "id": "884c2124-aa4b-4e65-bb9a-9834e284bac7",
      "metadata": {
        "id": "884c2124-aa4b-4e65-bb9a-9834e284bac7",
        "outputId": "75f588c1-bc22-4e65-d975-4fff103597c9"
      },
      "outputs": [
        {
          "data": {
            "text/html": [
              "<div>\n",
              "<style scoped>\n",
              "    .dataframe tbody tr th:only-of-type {\n",
              "        vertical-align: middle;\n",
              "    }\n",
              "\n",
              "    .dataframe tbody tr th {\n",
              "        vertical-align: top;\n",
              "    }\n",
              "\n",
              "    .dataframe thead th {\n",
              "        text-align: right;\n",
              "    }\n",
              "</style>\n",
              "<table border=\"1\" class=\"dataframe\">\n",
              "  <thead>\n",
              "    <tr style=\"text-align: right;\">\n",
              "      <th></th>\n",
              "      <th>a_sum_2nn</th>\n",
              "      <th>b_whatever_2nn</th>\n",
              "      <th>a_sum_3nn</th>\n",
              "    </tr>\n",
              "  </thead>\n",
              "  <tbody>\n",
              "    <tr>\n",
              "      <th>0</th>\n",
              "      <td>5</td>\n",
              "      <td>19</td>\n",
              "      <td>9</td>\n",
              "    </tr>\n",
              "    <tr>\n",
              "      <th>1</th>\n",
              "      <td>4</td>\n",
              "      <td>10</td>\n",
              "      <td>8</td>\n",
              "    </tr>\n",
              "    <tr>\n",
              "      <th>2</th>\n",
              "      <td>6</td>\n",
              "      <td>19</td>\n",
              "      <td>11</td>\n",
              "    </tr>\n",
              "    <tr>\n",
              "      <th>3</th>\n",
              "      <td>8</td>\n",
              "      <td>27</td>\n",
              "      <td>10</td>\n",
              "    </tr>\n",
              "    <tr>\n",
              "      <th>4</th>\n",
              "      <td>7</td>\n",
              "      <td>27</td>\n",
              "      <td>9</td>\n",
              "    </tr>\n",
              "  </tbody>\n",
              "</table>\n",
              "</div>"
            ],
            "text/plain": [
              "   a_sum_2nn  b_whatever_2nn  a_sum_3nn\n",
              "0          5              19          9\n",
              "1          4              10          8\n",
              "2          6              19         11\n",
              "3          8              27         10\n",
              "4          7              27          9"
            ]
          },
          "execution_count": 21,
          "metadata": {},
          "output_type": "execute_result"
        }
      ],
      "source": [
        "X = agg.make_features(neighbor_ids, feature_info={\n",
        "    'a_sum': ('a', lambda x: x.sum(), [2, 3]),\n",
        "    'b_whatever': ('b', lambda x: x.min(), 2),\n",
        "})\n",
        "X"
      ]
    },
    {
      "cell_type": "code",
      "execution_count": null,
      "id": "bf35db90-6799-4261-998f-bde8b281435e",
      "metadata": {
        "id": "bf35db90-6799-4261-998f-bde8b281435e"
      },
      "outputs": [],
      "source": []
    },
    {
      "cell_type": "markdown",
      "id": "621797b8-034b-4865-b7c4-76226cc9c227",
      "metadata": {
        "id": "621797b8-034b-4865-b7c4-76226cc9c227"
      },
      "source": [
        "### Вопросы\n",
        "\n",
        "1) Какой / какие индекс[-ы] вы решили использовать для этой задачи и почему?\n",
        "2) Какие недостатки / потенциальные зоны для улучшения у вашей текущей реализации?"
      ]
    },
    {
      "cell_type": "markdown",
      "source": [
        "1) Я использовал NearestNeighbors из sklearn с матриков евклида так как он самый простой и первый пришел в голову\n",
        "2) Медленная и неэффективная работа на большом объеме данных\n",
        "  не рассмотрены особенности категориальных признаков\n",
        "  не рассмотрена нормировка данных перед поиском соседей\n",
        " можно было бы применить специальные библиотеки для поиска ближайших соседей которые позволяют строить высокопроизводительные индексы\n",
        " Нет проверки на пропуски данных"
      ],
      "metadata": {
        "id": "kPZTsF9-kHBo"
      },
      "id": "kPZTsF9-kHBo"
    },
    {
      "cell_type": "code",
      "execution_count": null,
      "id": "0b6d9693-4f14-4c65-a093-230e7873e426",
      "metadata": {
        "id": "0b6d9693-4f14-4c65-a093-230e7873e426"
      },
      "outputs": [],
      "source": []
    }
  ],
  "metadata": {
    "kernelspec": {
      "display_name": "Python 3 (ipykernel)",
      "language": "python",
      "name": "python3"
    },
    "language_info": {
      "codemirror_mode": {
        "name": "ipython",
        "version": 3
      },
      "file_extension": ".py",
      "mimetype": "text/x-python",
      "name": "python",
      "nbconvert_exporter": "python",
      "pygments_lexer": "ipython3",
      "version": "3.12.8"
    },
    "colab": {
      "provenance": []
    }
  },
  "nbformat": 4,
  "nbformat_minor": 5
}